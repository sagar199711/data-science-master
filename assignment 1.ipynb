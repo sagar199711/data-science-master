{
 "cells": [
  {
   "cell_type": "code",
   "execution_count": 10,
   "id": "1cb74cf0-b750-4d75-beae-b44cb98eebba",
   "metadata": {},
   "outputs": [
    {
     "name": "stdin",
     "output_type": "stream",
     "text": [
      "enter the price 5000\n"
     ]
    },
    {
     "name": "stdout",
     "output_type": "stream",
     "text": [
      "the price of the product is 4000.0 \n"
     ]
    }
   ],
   "source": [
    "product_price=int(input(\"enter the price\"))\n",
    "if product_price>1000:\n",
    "    print(\"the price of the product is {} \".format(product_price*0.8))\n",
    "else:\n",
    "    print(\"the price of the product is {} \".format(prodct_price*0.7))    \n"
   ]
  },
  {
   "cell_type": "code",
   "execution_count": 11,
   "id": "98575aae-a67d-4a60-9c74-c380763fa212",
   "metadata": {},
   "outputs": [
    {
     "name": "stdin",
     "output_type": "stream",
     "text": [
      "enter the price 5000\n"
     ]
    },
    {
     "name": "stdout",
     "output_type": "stream",
     "text": [
      "The price of the product is 4000.0\n"
     ]
    }
   ],
   "source": [
    "produc_price=int(input(\"enter the price\"))\n",
    "if product_price>1000:\n",
    "    print(\"The price of the product is {}\".format(product_price-(product_price*0.2)))\n",
    "else:\n",
    "    print(\"The price of the product is {} \".format(Product_price-(product_price*0.3)))"
   ]
  },
  {
   "cell_type": "code",
   "execution_count": 22,
   "id": "c4eaf34f-5124-4507-8cae-58f667338fd1",
   "metadata": {},
   "outputs": [
    {
     "name": "stdin",
     "output_type": "stream",
     "text": [
      "enter the price 4000\n"
     ]
    },
    {
     "name": "stdout",
     "output_type": "stream",
     "text": [
      "you get trip to goa\n",
      "The price of the product is3200.0\n"
     ]
    }
   ],
   "source": [
    "product_price= int(input(\"enter the price\"))\n",
    "if product_price>=3000:\n",
    "    if product_price==4000:\n",
    "        print(\"you get trip to goa\")\n",
    "    print(f\"The price of the product is{product_price*0.8}\")\n",
    "elif product_price>=2000 and product_price<=3000:\n",
    "    if product_price==2999:\n",
    "        print(\"congratuations you get additional gift\")\n",
    "    print(f\"The price of the product is {product_price*0.7}\")\n",
    "elif product_price>=100 and produc_price<=2000:\n",
    "    print(f\"the price of the product is{product_price*0.6}\")\n",
    "else:\n",
    "    print(\"lets drink tea\")\n",
    "\n",
    "    \n"
   ]
  },
  {
   "cell_type": "code",
   "execution_count": null,
   "id": "a99c87d1-c499-4081-ab66-57f64a4003f8",
   "metadata": {},
   "outputs": [],
   "source": []
  },
  {
   "cell_type": "code",
   "execution_count": null,
   "id": "58446449-6f7b-4b61-b6a2-70cecbab7eca",
   "metadata": {},
   "outputs": [],
   "source": []
  }
 ],
 "metadata": {
  "kernelspec": {
   "display_name": "Python 3 (ipykernel)",
   "language": "python",
   "name": "python3"
  },
  "language_info": {
   "codemirror_mode": {
    "name": "ipython",
    "version": 3
   },
   "file_extension": ".py",
   "mimetype": "text/x-python",
   "name": "python",
   "nbconvert_exporter": "python",
   "pygments_lexer": "ipython3",
   "version": "3.10.8"
  }
 },
 "nbformat": 4,
 "nbformat_minor": 5
}
